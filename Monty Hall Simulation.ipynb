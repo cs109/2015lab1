{
 "cells": [
  {
   "cell_type": "code",
   "execution_count": 11,
   "metadata": {},
   "outputs": [],
   "source": [
    "# The %... is an iPython thing, and is not part of the Python language.\n",
    "# In this case we're just telling the plotting library to draw things on\n",
    "# the notebook, instead of on a separate window.\n",
    "%matplotlib inline \n",
    "#this line above prepares IPython notebook for working with matplotlib\n",
    "\n",
    "# See all the \"as ...\" contructs? They're just aliasing the package names.\n",
    "# That way we can call methods like plt.plot() instead of matplotlib.pyplot.plot().\n",
    "\n",
    "import numpy as np # imports a fast numerical programming library\n",
    "import scipy as sp #imports stats functions, amongst other things\n",
    "import matplotlib as mpl # this actually imports matplotlib\n",
    "import matplotlib.cm as cm #allows us easy access to colormaps\n",
    "import matplotlib.pyplot as plt #sets up plotting under plt\n",
    "import pandas as pd #lets us handle data as dataframes\n",
    "#sets up pandas table display\n",
    "pd.set_option('display.width', 500)\n",
    "pd.set_option('display.max_columns', 100)\n",
    "pd.set_option('display.notebook_repr_html', True)\n",
    "import seaborn as sns #sets up styles and gives us more plotting options"
   ]
  },
  {
   "cell_type": "code",
   "execution_count": 12,
   "metadata": {},
   "outputs": [],
   "source": [
    "NUMBER_DOORS = 100\n",
    "NUMBER_SIMULATIONS = 10000"
   ]
  },
  {
   "cell_type": "code",
   "execution_count": 13,
   "metadata": {},
   "outputs": [],
   "source": [
    "def simulate_winnerdoors():\n",
    "    return np.random.randint(0, NUMBER_DOORS, NUMBER_SIMULATIONS)"
   ]
  },
  {
   "cell_type": "code",
   "execution_count": 14,
   "metadata": {},
   "outputs": [],
   "source": [
    "def player_guess():\n",
    "    return np.random.randint(0, NUMBER_DOORS, NUMBER_SIMULATIONS)"
   ]
  },
  {
   "cell_type": "code",
   "execution_count": 15,
   "metadata": {},
   "outputs": [],
   "source": [
    "# Creates a list without the winner doors and the guesses\n",
    "def reveal_goat_door(winner_doors, guesses):\n",
    "    result = [[x for x in range(NUMBER_DOORS) if x != winner_doors[i] and x != guesses[i]] for i in range(NUMBER_SIMULATIONS)]\n",
    "    for i in range(NUMBER_SIMULATIONS):\n",
    "        if(len(result[i]) == NUMBER_DOORS-1):\n",
    "            del result[i][0]\n",
    "    return result"
   ]
  },
  {
   "cell_type": "code",
   "execution_count": 16,
   "metadata": {},
   "outputs": [],
   "source": [
    "def switch_doors(reveal_doors, guesses):\n",
    "    switched_doors = [[x for x in range(NUMBER_DOORS) if x not in reveal_doors[i] and x != guesses[i]] for i in range(NUMBER_SIMULATIONS)]\n",
    "    return np.reshape(switched_doors, (NUMBER_SIMULATIONS,)) "
   ]
  },
  {
   "cell_type": "code",
   "execution_count": 17,
   "metadata": {},
   "outputs": [],
   "source": [
    "def win_percentage(winner_doors, guesses):\n",
    "    return 100 * np.mean(winner_doors==guesses)"
   ]
  },
  {
   "cell_type": "code",
   "execution_count": 18,
   "metadata": {},
   "outputs": [
    {
     "name": "stdout",
     "output_type": "stream",
     "text": [
      "Win percentage when keeping original door\n",
      "1.08\n",
      "Win percentage when switching doors\n",
      "99.02\n"
     ]
    }
   ],
   "source": [
    "print(\"Win percentage when keeping original door\")\n",
    "print(win_percentage(simulate_winnerdoors(), player_guess()))\n",
    "\n",
    "winner_doors = simulate_winnerdoors()\n",
    "guesses = player_guess()\n",
    "reveal_goats = reveal_goat_door(winner_doors, guesses)\n",
    "guesses = switch_doors(reveal_goats, guesses)\n",
    "print(\"Win percentage when switching doors\")\n",
    "print(win_percentage(winner_doors, guesses))"
   ]
  },
  {
   "cell_type": "markdown",
   "metadata": {},
   "source": [
    "## Bayes Theorem\n",
    "\n",
    "We can get the  Bayes Theorem to get the win percentage directly as shown bellow for the 3 doors problem:\n",
    "\n",
    "\\begin{equation}\n",
    "\\begin{split}\n",
    "P(p_s| g_i, r_g) &=\\frac{P(r_g| p_i, g_i) * P(p_s, g_i)}{P(g_i, r_g)}\\\\\n",
    "&= \\frac{1 * P(p_s) * P(g_i)}{P(g_i)*P(r_g|g_i)}\\\\\n",
    "&= \\frac{1/3}{1/2}\\\\\n",
    "&= \\frac{2}{3}\n",
    "\\end{split}\n",
    "\\end{equation}\n",
    "\n",
    "In the general rule we have:\n",
    "\n",
    "\\begin{equation}\n",
    "\\begin{split}\n",
    "P(p_s| g_i, \\vec{r_g}) &=\\frac{P(\\vec{r_g}| p_i, g_i) * P(p_s, g_i)}{P(g_i, \\vec{r_g})}\\\\\n",
    "&= \\frac{1 * P(p_s) * P(g_i)}{P(g_i)*P(\\vec{r_g}|g_i)}\\\\\n",
    "&= \\frac{1/n}{1/(n-1)}\\\\\n",
    "&= \\frac{n-1}{n}\n",
    "\\end{split}\n",
    "\\end{equation}\n",
    "\n",
    "* $n = $ number of doors\n",
    "* $p_s = $ prize on the switched door\n",
    "* $g_i = $ initial guess\n",
    "* $r_g = $ reveal a goat door\n",
    "* $\\vec{r_g} = $ reveal a set of goat doors"
   ]
  },
  {
   "cell_type": "code",
   "execution_count": 28,
   "metadata": {},
   "outputs": [
    {
     "name": "stdout",
     "output_type": "stream",
     "text": [
      "Win percentage when keeping original door\n",
      "1.03\n",
      "Win percentage when switching doors\n",
      "98.97\n"
     ]
    }
   ],
   "source": [
    "print(\"Win percentage when keeping original door\")\n",
    "no_switch = win_percentage(simulate_winnerdoors(), player_guess())\n",
    "print(no_switch)\n",
    "\n",
    "\n",
    "print(\"Win percentage when switching doors\")\n",
    "print(100-no_switch)"
   ]
  },
  {
   "cell_type": "code",
   "execution_count": 29,
   "metadata": {},
   "outputs": [
    {
     "name": "stdout",
     "output_type": "stream",
     "text": [
      "Win percentage when keeping original door\n",
      "1.0\n",
      "Win percentage when switching doors\n",
      "99.0\n"
     ]
    }
   ],
   "source": [
    "print(\"Win percentage when keeping original door\")\n",
    "no_switch = 1/NUMBER_DOORS\n",
    "print(no_switch*100)\n",
    "\n",
    "switch = (NUMBER_DOORS-1)/NUMBER_DOORS\n",
    "print(\"Win percentage when switching doors\")\n",
    "print(switch*100)"
   ]
  },
  {
   "cell_type": "code",
   "execution_count": null,
   "metadata": {},
   "outputs": [],
   "source": []
  }
 ],
 "metadata": {
  "kernelspec": {
   "display_name": "Python 3",
   "language": "python",
   "name": "python3"
  },
  "language_info": {
   "codemirror_mode": {
    "name": "ipython",
    "version": 3
   },
   "file_extension": ".py",
   "mimetype": "text/x-python",
   "name": "python",
   "nbconvert_exporter": "python",
   "pygments_lexer": "ipython3",
   "version": "3.7.1"
  }
 },
 "nbformat": 4,
 "nbformat_minor": 2
}
